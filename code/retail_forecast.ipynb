{
 "cells": [
  {
   "cell_type": "code",
   "execution_count": 1,
   "id": "9faa1b26",
   "metadata": {},
   "outputs": [],
   "source": [
    "import pandas as pd\n",
    "from sklearn.model_selection import cross_validate, cross_val_score,StratifiedKFold\n",
    "from sklearn.preprocessing import LabelEncoder\n",
    "\n",
    "\n",
    "from sklearn import tree\n",
    "# from sklearn.linear_model import LogisticRegression\n",
    "# from sklearn.svm import SVC\n",
    "# from sklearn.ensemble import RandomForestClassifier"
   ]
  },
  {
   "cell_type": "code",
   "execution_count": 2,
   "id": "a2731ccc",
   "metadata": {},
   "outputs": [],
   "source": [
    "# Define your models\n",
    "model = tree.DecisionTreeClassifier()\n",
    "\n",
    "skf = StratifiedKFold(n_splits=3, shuffle=True, random_state=42)"
   ]
  },
  {
   "cell_type": "code",
   "execution_count": 8,
   "id": "8ad7dc81",
   "metadata": {},
   "outputs": [],
   "source": [
    "df_train = pd.read_csv(\"../data/train.csv\", delimiter=\",\")\n",
    "df_test = pd.read_csv(\"../data/test.csv\", delimiter=\",\")\n",
    "df_score = df_test.copy()"
   ]
  },
  {
   "cell_type": "code",
   "execution_count": 9,
   "id": "3708c84f",
   "metadata": {},
   "outputs": [
    {
     "data": {
      "application/vnd.microsoft.datawrangler.viewer.v0+json": {
       "columns": [
        {
         "name": "index",
         "rawType": "int64",
         "type": "integer"
        },
        {
         "name": "user",
         "rawType": "int64",
         "type": "integer"
        },
        {
         "name": "time",
         "rawType": "object",
         "type": "string"
        }
       ],
       "conversionMethod": "pd.DataFrame",
       "ref": "2568568b-4c5f-4c67-81c9-8dbbbc87d32d",
       "rows": [
        [
         "0",
         "0",
         "2024-04-07"
        ],
        [
         "1",
         "0",
         "2024-04-08"
        ],
        [
         "2",
         "0",
         "2024-04-09"
        ],
        [
         "3",
         "0",
         "2024-04-10"
        ],
        [
         "4",
         "0",
         "2024-04-11"
        ],
        [
         "5",
         "0",
         "2024-04-12"
        ],
        [
         "6",
         "0",
         "2024-04-13"
        ],
        [
         "7",
         "0",
         "2024-04-14"
        ],
        [
         "8",
         "0",
         "2024-04-15"
        ],
        [
         "9",
         "0",
         "2024-04-16"
        ],
        [
         "10",
         "0",
         "2024-04-17"
        ],
        [
         "11",
         "0",
         "2024-04-18"
        ],
        [
         "12",
         "0",
         "2024-04-19"
        ],
        [
         "13",
         "0",
         "2024-04-20"
        ],
        [
         "14",
         "0",
         "2024-04-21"
        ],
        [
         "15",
         "0",
         "2024-04-22"
        ],
        [
         "16",
         "0",
         "2024-04-23"
        ],
        [
         "17",
         "0",
         "2024-04-24"
        ],
        [
         "18",
         "0",
         "2024-04-25"
        ],
        [
         "19",
         "0",
         "2024-04-26"
        ],
        [
         "20",
         "0",
         "2024-04-27"
        ],
        [
         "21",
         "0",
         "2024-04-28"
        ],
        [
         "22",
         "0",
         "2024-04-29"
        ],
        [
         "23",
         "0",
         "2024-04-30"
        ],
        [
         "24",
         "0",
         "2024-05-01"
        ],
        [
         "25",
         "0",
         "2024-05-02"
        ],
        [
         "26",
         "0",
         "2024-05-03"
        ],
        [
         "27",
         "0",
         "2024-05-04"
        ],
        [
         "28",
         "0",
         "2024-05-05"
        ],
        [
         "29",
         "0",
         "2024-05-06"
        ],
        [
         "30",
         "0",
         "2024-05-07"
        ],
        [
         "31",
         "0",
         "2024-05-08"
        ],
        [
         "32",
         "0",
         "2024-05-09"
        ],
        [
         "33",
         "0",
         "2024-05-10"
        ],
        [
         "34",
         "0",
         "2024-05-11"
        ],
        [
         "35",
         "0",
         "2024-05-12"
        ],
        [
         "36",
         "0",
         "2024-05-13"
        ],
        [
         "37",
         "0",
         "2024-05-14"
        ],
        [
         "38",
         "0",
         "2024-05-15"
        ],
        [
         "39",
         "0",
         "2024-05-16"
        ],
        [
         "40",
         "0",
         "2024-05-17"
        ],
        [
         "41",
         "0",
         "2024-05-18"
        ],
        [
         "42",
         "0",
         "2024-05-19"
        ],
        [
         "43",
         "0",
         "2024-05-20"
        ],
        [
         "44",
         "0",
         "2024-05-21"
        ],
        [
         "45",
         "0",
         "2024-05-22"
        ],
        [
         "46",
         "0",
         "2024-05-23"
        ],
        [
         "47",
         "0",
         "2024-05-24"
        ],
        [
         "48",
         "0",
         "2024-05-25"
        ],
        [
         "49",
         "0",
         "2024-05-26"
        ]
       ],
       "shape": {
        "columns": 2,
        "rows": 3863
       }
      },
      "text/html": [
       "<div>\n",
       "<style scoped>\n",
       "    .dataframe tbody tr th:only-of-type {\n",
       "        vertical-align: middle;\n",
       "    }\n",
       "\n",
       "    .dataframe tbody tr th {\n",
       "        vertical-align: top;\n",
       "    }\n",
       "\n",
       "    .dataframe thead th {\n",
       "        text-align: right;\n",
       "    }\n",
       "</style>\n",
       "<table border=\"1\" class=\"dataframe\">\n",
       "  <thead>\n",
       "    <tr style=\"text-align: right;\">\n",
       "      <th></th>\n",
       "      <th>user</th>\n",
       "      <th>time</th>\n",
       "    </tr>\n",
       "  </thead>\n",
       "  <tbody>\n",
       "    <tr>\n",
       "      <th>0</th>\n",
       "      <td>0</td>\n",
       "      <td>2024-04-07</td>\n",
       "    </tr>\n",
       "    <tr>\n",
       "      <th>1</th>\n",
       "      <td>0</td>\n",
       "      <td>2024-04-08</td>\n",
       "    </tr>\n",
       "    <tr>\n",
       "      <th>2</th>\n",
       "      <td>0</td>\n",
       "      <td>2024-04-09</td>\n",
       "    </tr>\n",
       "    <tr>\n",
       "      <th>3</th>\n",
       "      <td>0</td>\n",
       "      <td>2024-04-10</td>\n",
       "    </tr>\n",
       "    <tr>\n",
       "      <th>4</th>\n",
       "      <td>0</td>\n",
       "      <td>2024-04-11</td>\n",
       "    </tr>\n",
       "    <tr>\n",
       "      <th>...</th>\n",
       "      <td>...</td>\n",
       "      <td>...</td>\n",
       "    </tr>\n",
       "    <tr>\n",
       "      <th>3858</th>\n",
       "      <td>32</td>\n",
       "      <td>2024-07-26</td>\n",
       "    </tr>\n",
       "    <tr>\n",
       "      <th>3859</th>\n",
       "      <td>32</td>\n",
       "      <td>2024-07-27</td>\n",
       "    </tr>\n",
       "    <tr>\n",
       "      <th>3860</th>\n",
       "      <td>32</td>\n",
       "      <td>2024-07-28</td>\n",
       "    </tr>\n",
       "    <tr>\n",
       "      <th>3861</th>\n",
       "      <td>32</td>\n",
       "      <td>2024-07-29</td>\n",
       "    </tr>\n",
       "    <tr>\n",
       "      <th>3862</th>\n",
       "      <td>32</td>\n",
       "      <td>2024-07-30</td>\n",
       "    </tr>\n",
       "  </tbody>\n",
       "</table>\n",
       "<p>3863 rows × 2 columns</p>\n",
       "</div>"
      ],
      "text/plain": [
       "      user        time\n",
       "0        0  2024-04-07\n",
       "1        0  2024-04-08\n",
       "2        0  2024-04-09\n",
       "3        0  2024-04-10\n",
       "4        0  2024-04-11\n",
       "...    ...         ...\n",
       "3858    32  2024-07-26\n",
       "3859    32  2024-07-27\n",
       "3860    32  2024-07-28\n",
       "3861    32  2024-07-29\n",
       "3862    32  2024-07-30\n",
       "\n",
       "[3863 rows x 2 columns]"
      ]
     },
     "execution_count": 9,
     "metadata": {},
     "output_type": "execute_result"
    }
   ],
   "source": [
    "df_score"
   ]
  },
  {
   "cell_type": "code",
   "execution_count": 18,
   "id": "3151ac0e",
   "metadata": {},
   "outputs": [
    {
     "data": {
      "application/vnd.microsoft.datawrangler.viewer.v0+json": {
       "columns": [
        {
         "name": "index",
         "rawType": "int64",
         "type": "integer"
        },
        {
         "name": "user",
         "rawType": "int64",
         "type": "integer"
        },
        {
         "name": "time",
         "rawType": "datetime64[ns]",
         "type": "datetime"
        },
        {
         "name": "bought",
         "rawType": "int64",
         "type": "integer"
        },
        {
         "name": "day_of_week",
         "rawType": "int32",
         "type": "integer"
        },
        {
         "name": "day_of_year",
         "rawType": "int32",
         "type": "integer"
        },
        {
         "name": "month",
         "rawType": "int32",
         "type": "integer"
        },
        {
         "name": "day_of_month",
         "rawType": "int32",
         "type": "integer"
        }
       ],
       "conversionMethod": "pd.DataFrame",
       "ref": "b3f1ef1f-c610-4331-a979-4c08ce7c7822",
       "rows": [
        [
         "3816",
         "8",
         "2023-04-27 00:00:00",
         "1",
         "3",
         "117",
         "4",
         "27"
        ],
        [
         "3822",
         "8",
         "2023-05-03 00:00:00",
         "1",
         "2",
         "123",
         "5",
         "3"
        ],
        [
         "3835",
         "8",
         "2023-05-16 00:00:00",
         "1",
         "1",
         "136",
         "5",
         "16"
        ],
        [
         "3836",
         "8",
         "2023-05-17 00:00:00",
         "1",
         "2",
         "137",
         "5",
         "17"
        ],
        [
         "3852",
         "8",
         "2023-06-02 00:00:00",
         "1",
         "4",
         "153",
         "6",
         "2"
        ],
        [
         "4018",
         "8",
         "2023-11-15 00:00:00",
         "1",
         "2",
         "319",
         "11",
         "15"
        ]
       ],
       "shape": {
        "columns": 7,
        "rows": 6
       }
      },
      "text/html": [
       "<div>\n",
       "<style scoped>\n",
       "    .dataframe tbody tr th:only-of-type {\n",
       "        vertical-align: middle;\n",
       "    }\n",
       "\n",
       "    .dataframe tbody tr th {\n",
       "        vertical-align: top;\n",
       "    }\n",
       "\n",
       "    .dataframe thead th {\n",
       "        text-align: right;\n",
       "    }\n",
       "</style>\n",
       "<table border=\"1\" class=\"dataframe\">\n",
       "  <thead>\n",
       "    <tr style=\"text-align: right;\">\n",
       "      <th></th>\n",
       "      <th>user</th>\n",
       "      <th>time</th>\n",
       "      <th>bought</th>\n",
       "      <th>day_of_week</th>\n",
       "      <th>day_of_year</th>\n",
       "      <th>month</th>\n",
       "      <th>day_of_month</th>\n",
       "    </tr>\n",
       "  </thead>\n",
       "  <tbody>\n",
       "    <tr>\n",
       "      <th>3816</th>\n",
       "      <td>8</td>\n",
       "      <td>2023-04-27</td>\n",
       "      <td>1</td>\n",
       "      <td>3</td>\n",
       "      <td>117</td>\n",
       "      <td>4</td>\n",
       "      <td>27</td>\n",
       "    </tr>\n",
       "    <tr>\n",
       "      <th>3822</th>\n",
       "      <td>8</td>\n",
       "      <td>2023-05-03</td>\n",
       "      <td>1</td>\n",
       "      <td>2</td>\n",
       "      <td>123</td>\n",
       "      <td>5</td>\n",
       "      <td>3</td>\n",
       "    </tr>\n",
       "    <tr>\n",
       "      <th>3835</th>\n",
       "      <td>8</td>\n",
       "      <td>2023-05-16</td>\n",
       "      <td>1</td>\n",
       "      <td>1</td>\n",
       "      <td>136</td>\n",
       "      <td>5</td>\n",
       "      <td>16</td>\n",
       "    </tr>\n",
       "    <tr>\n",
       "      <th>3836</th>\n",
       "      <td>8</td>\n",
       "      <td>2023-05-17</td>\n",
       "      <td>1</td>\n",
       "      <td>2</td>\n",
       "      <td>137</td>\n",
       "      <td>5</td>\n",
       "      <td>17</td>\n",
       "    </tr>\n",
       "    <tr>\n",
       "      <th>3852</th>\n",
       "      <td>8</td>\n",
       "      <td>2023-06-02</td>\n",
       "      <td>1</td>\n",
       "      <td>4</td>\n",
       "      <td>153</td>\n",
       "      <td>6</td>\n",
       "      <td>2</td>\n",
       "    </tr>\n",
       "    <tr>\n",
       "      <th>4018</th>\n",
       "      <td>8</td>\n",
       "      <td>2023-11-15</td>\n",
       "      <td>1</td>\n",
       "      <td>2</td>\n",
       "      <td>319</td>\n",
       "      <td>11</td>\n",
       "      <td>15</td>\n",
       "    </tr>\n",
       "  </tbody>\n",
       "</table>\n",
       "</div>"
      ],
      "text/plain": [
       "      user       time  bought  day_of_week  day_of_year  month  day_of_month\n",
       "3816     8 2023-04-27       1            3          117      4            27\n",
       "3822     8 2023-05-03       1            2          123      5             3\n",
       "3835     8 2023-05-16       1            1          136      5            16\n",
       "3836     8 2023-05-17       1            2          137      5            17\n",
       "3852     8 2023-06-02       1            4          153      6             2\n",
       "4018     8 2023-11-15       1            2          319     11            15"
      ]
     },
     "execution_count": 18,
     "metadata": {},
     "output_type": "execute_result"
    }
   ],
   "source": [
    "df_train[(df_train['user']==8)&(df_train['bought']==1)]"
   ]
  },
  {
   "cell_type": "code",
   "execution_count": 11,
   "id": "ca7ca8d5",
   "metadata": {},
   "outputs": [],
   "source": [
    "data_set = [\"df_train\",\"df_score\"]\n",
    "\n",
    "for dfname in data_set: \n",
    "    df=globals()[dfname]\n",
    "    df['time'] = pd.to_datetime(df['time'])\n",
    "    df['day_of_week'] = pd.to_datetime(df['time']).dt.weekday\n",
    "    # df['week_of_year'] = pd.to_datetime(df['time']).dt.weekofyear\n",
    "    df['day_of_year'] = pd.to_datetime(df['time']).dt.dayofyear\n",
    "    df['month'] = pd.to_datetime(df['time']).dt.month\n",
    "    df['day_of_month'] = pd.to_datetime(df['time']).dt.day\n",
    "    globals()[dfname]=df"
   ]
  },
  {
   "cell_type": "code",
   "execution_count": 12,
   "id": "c3cecccf",
   "metadata": {},
   "outputs": [
    {
     "data": {
      "application/vnd.microsoft.datawrangler.viewer.v0+json": {
       "columns": [
        {
         "name": "index",
         "rawType": "int64",
         "type": "integer"
        },
        {
         "name": "user",
         "rawType": "int64",
         "type": "integer"
        },
        {
         "name": "time",
         "rawType": "object",
         "type": "string"
        }
       ],
       "conversionMethod": "pd.DataFrame",
       "ref": "b0815312-d9b6-45bf-8c61-2713dbd7452c",
       "rows": [
        [
         "0",
         "0",
         "2024-04-07"
        ],
        [
         "1",
         "0",
         "2024-04-08"
        ],
        [
         "2",
         "0",
         "2024-04-09"
        ],
        [
         "3",
         "0",
         "2024-04-10"
        ],
        [
         "4",
         "0",
         "2024-04-11"
        ],
        [
         "5",
         "0",
         "2024-04-12"
        ],
        [
         "6",
         "0",
         "2024-04-13"
        ],
        [
         "7",
         "0",
         "2024-04-14"
        ],
        [
         "8",
         "0",
         "2024-04-15"
        ],
        [
         "9",
         "0",
         "2024-04-16"
        ],
        [
         "10",
         "0",
         "2024-04-17"
        ],
        [
         "11",
         "0",
         "2024-04-18"
        ],
        [
         "12",
         "0",
         "2024-04-19"
        ],
        [
         "13",
         "0",
         "2024-04-20"
        ],
        [
         "14",
         "0",
         "2024-04-21"
        ],
        [
         "15",
         "0",
         "2024-04-22"
        ],
        [
         "16",
         "0",
         "2024-04-23"
        ],
        [
         "17",
         "0",
         "2024-04-24"
        ],
        [
         "18",
         "0",
         "2024-04-25"
        ],
        [
         "19",
         "0",
         "2024-04-26"
        ],
        [
         "20",
         "0",
         "2024-04-27"
        ],
        [
         "21",
         "0",
         "2024-04-28"
        ],
        [
         "22",
         "0",
         "2024-04-29"
        ],
        [
         "23",
         "0",
         "2024-04-30"
        ],
        [
         "24",
         "0",
         "2024-05-01"
        ],
        [
         "25",
         "0",
         "2024-05-02"
        ],
        [
         "26",
         "0",
         "2024-05-03"
        ],
        [
         "27",
         "0",
         "2024-05-04"
        ],
        [
         "28",
         "0",
         "2024-05-05"
        ],
        [
         "29",
         "0",
         "2024-05-06"
        ],
        [
         "30",
         "0",
         "2024-05-07"
        ],
        [
         "31",
         "0",
         "2024-05-08"
        ],
        [
         "32",
         "0",
         "2024-05-09"
        ],
        [
         "33",
         "0",
         "2024-05-10"
        ],
        [
         "34",
         "0",
         "2024-05-11"
        ],
        [
         "35",
         "0",
         "2024-05-12"
        ],
        [
         "36",
         "0",
         "2024-05-13"
        ],
        [
         "37",
         "0",
         "2024-05-14"
        ],
        [
         "38",
         "0",
         "2024-05-15"
        ],
        [
         "39",
         "0",
         "2024-05-16"
        ],
        [
         "40",
         "0",
         "2024-05-17"
        ],
        [
         "41",
         "0",
         "2024-05-18"
        ],
        [
         "42",
         "0",
         "2024-05-19"
        ],
        [
         "43",
         "0",
         "2024-05-20"
        ],
        [
         "44",
         "0",
         "2024-05-21"
        ],
        [
         "45",
         "0",
         "2024-05-22"
        ],
        [
         "46",
         "0",
         "2024-05-23"
        ],
        [
         "47",
         "0",
         "2024-05-24"
        ],
        [
         "48",
         "0",
         "2024-05-25"
        ],
        [
         "49",
         "0",
         "2024-05-26"
        ]
       ],
       "shape": {
        "columns": 2,
        "rows": 3863
       }
      },
      "text/html": [
       "<div>\n",
       "<style scoped>\n",
       "    .dataframe tbody tr th:only-of-type {\n",
       "        vertical-align: middle;\n",
       "    }\n",
       "\n",
       "    .dataframe tbody tr th {\n",
       "        vertical-align: top;\n",
       "    }\n",
       "\n",
       "    .dataframe thead th {\n",
       "        text-align: right;\n",
       "    }\n",
       "</style>\n",
       "<table border=\"1\" class=\"dataframe\">\n",
       "  <thead>\n",
       "    <tr style=\"text-align: right;\">\n",
       "      <th></th>\n",
       "      <th>user</th>\n",
       "      <th>time</th>\n",
       "    </tr>\n",
       "  </thead>\n",
       "  <tbody>\n",
       "    <tr>\n",
       "      <th>0</th>\n",
       "      <td>0</td>\n",
       "      <td>2024-04-07</td>\n",
       "    </tr>\n",
       "    <tr>\n",
       "      <th>1</th>\n",
       "      <td>0</td>\n",
       "      <td>2024-04-08</td>\n",
       "    </tr>\n",
       "    <tr>\n",
       "      <th>2</th>\n",
       "      <td>0</td>\n",
       "      <td>2024-04-09</td>\n",
       "    </tr>\n",
       "    <tr>\n",
       "      <th>3</th>\n",
       "      <td>0</td>\n",
       "      <td>2024-04-10</td>\n",
       "    </tr>\n",
       "    <tr>\n",
       "      <th>4</th>\n",
       "      <td>0</td>\n",
       "      <td>2024-04-11</td>\n",
       "    </tr>\n",
       "    <tr>\n",
       "      <th>...</th>\n",
       "      <td>...</td>\n",
       "      <td>...</td>\n",
       "    </tr>\n",
       "    <tr>\n",
       "      <th>3858</th>\n",
       "      <td>32</td>\n",
       "      <td>2024-07-26</td>\n",
       "    </tr>\n",
       "    <tr>\n",
       "      <th>3859</th>\n",
       "      <td>32</td>\n",
       "      <td>2024-07-27</td>\n",
       "    </tr>\n",
       "    <tr>\n",
       "      <th>3860</th>\n",
       "      <td>32</td>\n",
       "      <td>2024-07-28</td>\n",
       "    </tr>\n",
       "    <tr>\n",
       "      <th>3861</th>\n",
       "      <td>32</td>\n",
       "      <td>2024-07-29</td>\n",
       "    </tr>\n",
       "    <tr>\n",
       "      <th>3862</th>\n",
       "      <td>32</td>\n",
       "      <td>2024-07-30</td>\n",
       "    </tr>\n",
       "  </tbody>\n",
       "</table>\n",
       "<p>3863 rows × 2 columns</p>\n",
       "</div>"
      ],
      "text/plain": [
       "      user        time\n",
       "0        0  2024-04-07\n",
       "1        0  2024-04-08\n",
       "2        0  2024-04-09\n",
       "3        0  2024-04-10\n",
       "4        0  2024-04-11\n",
       "...    ...         ...\n",
       "3858    32  2024-07-26\n",
       "3859    32  2024-07-27\n",
       "3860    32  2024-07-28\n",
       "3861    32  2024-07-29\n",
       "3862    32  2024-07-30\n",
       "\n",
       "[3863 rows x 2 columns]"
      ]
     },
     "execution_count": 12,
     "metadata": {},
     "output_type": "execute_result"
    }
   ],
   "source": [
    "df_test\n",
    "# ['time'].unique()"
   ]
  },
  {
   "cell_type": "code",
   "execution_count": 13,
   "id": "4ff33960",
   "metadata": {},
   "outputs": [
    {
     "data": {
      "text/plain": [
       "array([ 0,  1,  2,  3,  4,  5,  6,  7,  8,  9, 10, 11, 12, 13, 14, 15, 16,\n",
       "       17, 18, 19, 20, 21, 22, 23, 24, 25, 26, 27, 28, 29, 30, 31, 32])"
      ]
     },
     "execution_count": 13,
     "metadata": {},
     "output_type": "execute_result"
    }
   ],
   "source": [
    "user_list = df_train[\"user\"].unique()\n",
    "user_list"
   ]
  },
  {
   "cell_type": "code",
   "execution_count": 14,
   "id": "3d773d7c",
   "metadata": {},
   "outputs": [
    {
     "data": {
      "application/vnd.microsoft.datawrangler.viewer.v0+json": {
       "columns": [
        {
         "name": "index",
         "rawType": "int64",
         "type": "integer"
        },
        {
         "name": "user",
         "rawType": "int64",
         "type": "integer"
        },
        {
         "name": "time",
         "rawType": "object",
         "type": "string"
        }
       ],
       "conversionMethod": "pd.DataFrame",
       "ref": "b54045e1-a0f6-4c44-80d2-5fc7878acd0a",
       "rows": [
        [
         "3748",
         "32",
         "2024-04-07"
        ],
        [
         "3749",
         "32",
         "2024-04-08"
        ],
        [
         "3750",
         "32",
         "2024-04-09"
        ],
        [
         "3751",
         "32",
         "2024-04-10"
        ],
        [
         "3752",
         "32",
         "2024-04-11"
        ],
        [
         "3753",
         "32",
         "2024-04-12"
        ],
        [
         "3754",
         "32",
         "2024-04-13"
        ],
        [
         "3755",
         "32",
         "2024-04-14"
        ],
        [
         "3756",
         "32",
         "2024-04-15"
        ],
        [
         "3757",
         "32",
         "2024-04-16"
        ],
        [
         "3758",
         "32",
         "2024-04-17"
        ],
        [
         "3759",
         "32",
         "2024-04-18"
        ],
        [
         "3760",
         "32",
         "2024-04-19"
        ],
        [
         "3761",
         "32",
         "2024-04-20"
        ],
        [
         "3762",
         "32",
         "2024-04-21"
        ],
        [
         "3763",
         "32",
         "2024-04-22"
        ],
        [
         "3764",
         "32",
         "2024-04-23"
        ],
        [
         "3765",
         "32",
         "2024-04-24"
        ],
        [
         "3766",
         "32",
         "2024-04-25"
        ],
        [
         "3767",
         "32",
         "2024-04-26"
        ],
        [
         "3768",
         "32",
         "2024-04-27"
        ],
        [
         "3769",
         "32",
         "2024-04-28"
        ],
        [
         "3770",
         "32",
         "2024-04-29"
        ],
        [
         "3771",
         "32",
         "2024-04-30"
        ],
        [
         "3772",
         "32",
         "2024-05-01"
        ],
        [
         "3773",
         "32",
         "2024-05-02"
        ],
        [
         "3774",
         "32",
         "2024-05-03"
        ],
        [
         "3775",
         "32",
         "2024-05-04"
        ],
        [
         "3776",
         "32",
         "2024-05-05"
        ],
        [
         "3777",
         "32",
         "2024-05-06"
        ],
        [
         "3778",
         "32",
         "2024-05-07"
        ],
        [
         "3779",
         "32",
         "2024-05-08"
        ],
        [
         "3780",
         "32",
         "2024-05-09"
        ],
        [
         "3781",
         "32",
         "2024-05-10"
        ],
        [
         "3782",
         "32",
         "2024-05-11"
        ],
        [
         "3783",
         "32",
         "2024-05-12"
        ],
        [
         "3784",
         "32",
         "2024-05-13"
        ],
        [
         "3785",
         "32",
         "2024-05-14"
        ],
        [
         "3786",
         "32",
         "2024-05-15"
        ],
        [
         "3787",
         "32",
         "2024-05-16"
        ],
        [
         "3788",
         "32",
         "2024-05-17"
        ],
        [
         "3789",
         "32",
         "2024-05-18"
        ],
        [
         "3790",
         "32",
         "2024-05-19"
        ],
        [
         "3791",
         "32",
         "2024-05-20"
        ],
        [
         "3792",
         "32",
         "2024-05-21"
        ],
        [
         "3793",
         "32",
         "2024-05-22"
        ],
        [
         "3794",
         "32",
         "2024-05-23"
        ],
        [
         "3795",
         "32",
         "2024-05-24"
        ],
        [
         "3796",
         "32",
         "2024-05-25"
        ],
        [
         "3797",
         "32",
         "2024-05-26"
        ]
       ],
       "shape": {
        "columns": 2,
        "rows": 115
       }
      },
      "text/html": [
       "<div>\n",
       "<style scoped>\n",
       "    .dataframe tbody tr th:only-of-type {\n",
       "        vertical-align: middle;\n",
       "    }\n",
       "\n",
       "    .dataframe tbody tr th {\n",
       "        vertical-align: top;\n",
       "    }\n",
       "\n",
       "    .dataframe thead th {\n",
       "        text-align: right;\n",
       "    }\n",
       "</style>\n",
       "<table border=\"1\" class=\"dataframe\">\n",
       "  <thead>\n",
       "    <tr style=\"text-align: right;\">\n",
       "      <th></th>\n",
       "      <th>user</th>\n",
       "      <th>time</th>\n",
       "    </tr>\n",
       "  </thead>\n",
       "  <tbody>\n",
       "    <tr>\n",
       "      <th>3748</th>\n",
       "      <td>32</td>\n",
       "      <td>2024-04-07</td>\n",
       "    </tr>\n",
       "    <tr>\n",
       "      <th>3749</th>\n",
       "      <td>32</td>\n",
       "      <td>2024-04-08</td>\n",
       "    </tr>\n",
       "    <tr>\n",
       "      <th>3750</th>\n",
       "      <td>32</td>\n",
       "      <td>2024-04-09</td>\n",
       "    </tr>\n",
       "    <tr>\n",
       "      <th>3751</th>\n",
       "      <td>32</td>\n",
       "      <td>2024-04-10</td>\n",
       "    </tr>\n",
       "    <tr>\n",
       "      <th>3752</th>\n",
       "      <td>32</td>\n",
       "      <td>2024-04-11</td>\n",
       "    </tr>\n",
       "    <tr>\n",
       "      <th>...</th>\n",
       "      <td>...</td>\n",
       "      <td>...</td>\n",
       "    </tr>\n",
       "    <tr>\n",
       "      <th>3858</th>\n",
       "      <td>32</td>\n",
       "      <td>2024-07-26</td>\n",
       "    </tr>\n",
       "    <tr>\n",
       "      <th>3859</th>\n",
       "      <td>32</td>\n",
       "      <td>2024-07-27</td>\n",
       "    </tr>\n",
       "    <tr>\n",
       "      <th>3860</th>\n",
       "      <td>32</td>\n",
       "      <td>2024-07-28</td>\n",
       "    </tr>\n",
       "    <tr>\n",
       "      <th>3861</th>\n",
       "      <td>32</td>\n",
       "      <td>2024-07-29</td>\n",
       "    </tr>\n",
       "    <tr>\n",
       "      <th>3862</th>\n",
       "      <td>32</td>\n",
       "      <td>2024-07-30</td>\n",
       "    </tr>\n",
       "  </tbody>\n",
       "</table>\n",
       "<p>115 rows × 2 columns</p>\n",
       "</div>"
      ],
      "text/plain": [
       "      user        time\n",
       "3748    32  2024-04-07\n",
       "3749    32  2024-04-08\n",
       "3750    32  2024-04-09\n",
       "3751    32  2024-04-10\n",
       "3752    32  2024-04-11\n",
       "...    ...         ...\n",
       "3858    32  2024-07-26\n",
       "3859    32  2024-07-27\n",
       "3860    32  2024-07-28\n",
       "3861    32  2024-07-29\n",
       "3862    32  2024-07-30\n",
       "\n",
       "[115 rows x 2 columns]"
      ]
     },
     "execution_count": 14,
     "metadata": {},
     "output_type": "execute_result"
    }
   ],
   "source": [
    "df_test[df_test['user']==32]"
   ]
  },
  {
   "cell_type": "code",
   "execution_count": 30,
   "id": "e0b2aaa1",
   "metadata": {},
   "outputs": [
    {
     "name": "stdout",
     "output_type": "stream",
     "text": [
      "(461, 4)\n",
      "(461,)\n",
      "(115, 4)\n",
      "User 0 Stratified Cross-validation scores: [1.         0.97777778 1.        ]\n",
      "0      0\n",
      "1      0\n",
      "2      0\n",
      "3      1\n",
      "4      0\n",
      "      ..\n",
      "110    0\n",
      "111    0\n",
      "112    0\n",
      "113    0\n",
      "114    0\n",
      "Name: bought, Length: 115, dtype: int64\n",
      "(461, 4)\n",
      "(461,)\n",
      "(115, 4)\n",
      "User 1 Stratified Cross-validation scores: [0.25       0.13636364 0.23076923]\n",
      "0      0\n",
      "1      0\n",
      "2      0\n",
      "3      0\n",
      "4      0\n",
      "      ..\n",
      "110    0\n",
      "111    0\n",
      "112    0\n",
      "113    0\n",
      "114    1\n",
      "Name: bought, Length: 115, dtype: int64\n",
      "(461, 4)\n",
      "(461,)\n",
      "(115, 4)\n",
      "User 2 Stratified Cross-validation scores: [0.45833333 0.57142857 0.38095238]\n",
      "0      0\n",
      "1      0\n",
      "2      0\n",
      "3      0\n",
      "4      1\n",
      "      ..\n",
      "110    0\n",
      "111    0\n",
      "112    0\n",
      "113    0\n",
      "114    0\n",
      "Name: bought, Length: 115, dtype: int64\n",
      "(461, 4)\n",
      "(461,)\n",
      "(115, 4)\n",
      "User 3 Stratified Cross-validation scores: [0.18181818 0.14285714 0.11111111]\n",
      "0      0\n",
      "1      0\n",
      "2      0\n",
      "3      0\n",
      "4      0\n",
      "      ..\n",
      "110    0\n",
      "111    0\n",
      "112    0\n",
      "113    0\n",
      "114    0\n",
      "Name: bought, Length: 115, dtype: int64\n",
      "(464, 4)\n",
      "(464,)\n",
      "(115, 4)\n",
      "User 4 Stratified Cross-validation scores: [0.90909091 0.90909091 0.9122807 ]\n",
      "0      0\n",
      "1      0\n",
      "2      0\n",
      "3      1\n",
      "4      0\n",
      "      ..\n",
      "110    0\n",
      "111    0\n",
      "112    0\n",
      "113    0\n",
      "114    0\n",
      "Name: bought, Length: 115, dtype: int64\n",
      "(462, 4)\n",
      "(462,)\n",
      "(115, 4)\n",
      "User 5 Stratified Cross-validation scores: [0.80952381 0.66666667 0.80851064]\n",
      "0      1\n",
      "1      0\n",
      "2      0\n",
      "3      0\n",
      "4      0\n",
      "      ..\n",
      "110    0\n",
      "111    0\n",
      "112    1\n",
      "113    0\n",
      "114    0\n",
      "Name: bought, Length: 115, dtype: int64\n",
      "(470, 4)\n",
      "(470,)\n",
      "(116, 4)\n",
      "User 6 Stratified Cross-validation scores: [0.         0.10526316 0.        ]\n",
      "0      0\n",
      "1      0\n",
      "2      0\n",
      "3      0\n",
      "4      0\n",
      "      ..\n",
      "111    0\n",
      "112    0\n",
      "113    0\n",
      "114    0\n",
      "115    0\n",
      "Name: bought, Length: 116, dtype: int64\n",
      "(461, 4)\n",
      "(461,)\n",
      "(115, 4)\n",
      "User 7 Stratified Cross-validation scores: [0.         0.22222222 0.        ]\n",
      "0      0\n",
      "1      0\n",
      "2      0\n",
      "3      0\n",
      "4      0\n",
      "      ..\n",
      "110    0\n",
      "111    0\n",
      "112    0\n",
      "113    0\n",
      "114    0\n",
      "Name: bought, Length: 115, dtype: int64\n",
      "(461, 4)\n",
      "(461,)\n",
      "(115, 4)\n",
      "User 8 Stratified Cross-validation scores: [0. 0. 0.]\n",
      "0      0\n",
      "1      0\n",
      "2      0\n",
      "3      0\n",
      "4      0\n",
      "      ..\n",
      "110    0\n",
      "111    0\n",
      "112    0\n",
      "113    0\n",
      "114    0\n",
      "Name: bought, Length: 115, dtype: int64\n",
      "(461, 4)\n",
      "(461,)\n",
      "(115, 4)\n",
      "User 9 Stratified Cross-validation scores: [0.93333333 0.92631579 0.88659794]\n",
      "0      0\n",
      "1      1\n",
      "2      1\n",
      "3      1\n",
      "4      1\n",
      "      ..\n",
      "110    0\n",
      "111    0\n",
      "112    0\n",
      "113    1\n",
      "114    0\n",
      "Name: bought, Length: 115, dtype: int64\n",
      "(461, 4)\n",
      "(461,)\n",
      "(115, 4)\n",
      "User 10 Stratified Cross-validation scores: [0.1   0.    0.125]\n",
      "0      0\n",
      "1      0\n",
      "2      0\n",
      "3      0\n",
      "4      1\n",
      "      ..\n",
      "110    0\n",
      "111    0\n",
      "112    0\n",
      "113    0\n",
      "114    0\n",
      "Name: bought, Length: 115, dtype: int64\n",
      "(474, 4)\n",
      "(474,)\n",
      "(116, 4)\n",
      "User 11 Stratified Cross-validation scores: [0.         0.10526316 0.22222222]\n",
      "0      0\n",
      "1      0\n",
      "2      0\n",
      "3      0\n",
      "4      0\n",
      "      ..\n",
      "111    1\n",
      "112    0\n",
      "113    0\n",
      "114    0\n",
      "115    0\n",
      "Name: bought, Length: 116, dtype: int64\n",
      "(507, 4)\n",
      "(507,)\n",
      "(128, 4)\n",
      "User 12 Stratified Cross-validation scores: [0.55       0.48101266 0.3956044 ]\n",
      "0      0\n",
      "1      0\n",
      "2      0\n",
      "3      0\n",
      "4      0\n",
      "      ..\n",
      "123    1\n",
      "124    0\n",
      "125    0\n",
      "126    0\n",
      "127    1\n",
      "Name: bought, Length: 128, dtype: int64\n",
      "(509, 4)\n",
      "(509,)\n",
      "(125, 4)\n",
      "User 13 Stratified Cross-validation scores: [0.05263158 0.         0.        ]\n",
      "0      0\n",
      "1      0\n",
      "2      0\n",
      "3      0\n",
      "4      0\n",
      "      ..\n",
      "120    0\n",
      "121    0\n",
      "122    0\n",
      "123    0\n",
      "124    0\n",
      "Name: bought, Length: 125, dtype: int64\n",
      "(465, 4)\n",
      "(465,)\n",
      "(115, 4)\n",
      "User 14 Stratified Cross-validation scores: [0.48275862 0.35294118 0.53846154]\n",
      "0      0\n",
      "1      0\n",
      "2      0\n",
      "3      0\n",
      "4      0\n",
      "      ..\n",
      "110    0\n",
      "111    0\n",
      "112    1\n",
      "113    0\n",
      "114    0\n",
      "Name: bought, Length: 115, dtype: int64\n",
      "(462, 4)\n",
      "(462,)\n",
      "(115, 4)\n",
      "User 15 Stratified Cross-validation scores: [0.1875     0.06666667 0.15789474]\n",
      "0      0\n",
      "1      0\n",
      "2      0\n",
      "3      0\n",
      "4      0\n",
      "      ..\n",
      "110    1\n",
      "111    0\n",
      "112    0\n",
      "113    0\n",
      "114    1\n",
      "Name: bought, Length: 115, dtype: int64\n",
      "(521, 4)\n",
      "(521,)\n",
      "(126, 4)\n",
      "User 16 Stratified Cross-validation scores: [0.45652174 0.43373494 0.42      ]\n",
      "0      0\n",
      "1      0\n",
      "2      0\n",
      "3      1\n",
      "4      0\n",
      "      ..\n",
      "121    0\n",
      "122    0\n",
      "123    0\n",
      "124    0\n",
      "125    0\n",
      "Name: bought, Length: 126, dtype: int64\n",
      "(461, 4)\n",
      "(461,)\n",
      "(115, 4)\n",
      "User 17 Stratified Cross-validation scores: [0.32 0.08 0.2 ]\n",
      "0      0\n",
      "1      0\n",
      "2      0\n",
      "3      0\n",
      "4      0\n",
      "      ..\n",
      "110    0\n",
      "111    0\n",
      "112    0\n",
      "113    0\n",
      "114    0\n",
      "Name: bought, Length: 115, dtype: int64\n",
      "(497, 4)\n",
      "(497,)\n",
      "(125, 4)\n",
      "User 18 Stratified Cross-validation scores: [0.22857143 0.         0.        ]\n",
      "0      0\n",
      "1      0\n",
      "2      0\n",
      "3      0\n",
      "4      0\n",
      "      ..\n",
      "120    0\n",
      "121    0\n",
      "122    0\n",
      "123    0\n",
      "124    0\n",
      "Name: bought, Length: 125, dtype: int64\n",
      "(461, 4)\n",
      "(461,)\n",
      "(115, 4)\n",
      "User 19 Stratified Cross-validation scores: [0.35       0.42105263 0.4       ]\n",
      "0      0\n",
      "1      0\n",
      "2      0\n",
      "3      0\n",
      "4      1\n",
      "      ..\n",
      "110    0\n",
      "111    0\n",
      "112    0\n",
      "113    0\n",
      "114    0\n",
      "Name: bought, Length: 115, dtype: int64\n",
      "(461, 4)\n",
      "(461,)\n",
      "(115, 4)\n",
      "User 20 Stratified Cross-validation scores: [0.22641509 0.23529412 0.2       ]\n",
      "0      0\n",
      "1      0\n",
      "2      0\n",
      "3      1\n",
      "4      0\n",
      "      ..\n",
      "110    0\n",
      "111    0\n",
      "112    0\n",
      "113    0\n",
      "114    0\n",
      "Name: bought, Length: 115, dtype: int64\n",
      "(461, 4)\n",
      "(461,)\n",
      "(115, 4)\n",
      "User 21 Stratified Cross-validation scores: [0.         0.27272727 0.08695652]\n",
      "0      0\n",
      "1      1\n",
      "2      0\n",
      "3      0\n",
      "4      0\n",
      "      ..\n",
      "110    0\n",
      "111    0\n",
      "112    0\n",
      "113    0\n",
      "114    0\n",
      "Name: bought, Length: 115, dtype: int64\n",
      "(461, 4)\n",
      "(461,)\n",
      "(115, 4)\n",
      "User 22 Stratified Cross-validation scores: [0. 0. 0.]\n",
      "0      0\n",
      "1      0\n",
      "2      0\n",
      "3      0\n",
      "4      0\n",
      "      ..\n",
      "110    0\n",
      "111    0\n",
      "112    0\n",
      "113    0\n",
      "114    0\n",
      "Name: bought, Length: 115, dtype: int64\n",
      "(464, 4)\n",
      "(464,)\n",
      "(115, 4)\n",
      "User 23 Stratified Cross-validation scores: [0.96666667 0.90625    0.83636364]\n",
      "0      0\n",
      "1      0\n",
      "2      0\n",
      "3      1\n",
      "4      0\n",
      "      ..\n",
      "110    0\n",
      "111    0\n",
      "112    0\n",
      "113    0\n",
      "114    0\n",
      "Name: bought, Length: 115, dtype: int64\n",
      "(461, 4)\n",
      "(461,)\n",
      "(115, 4)\n",
      "User 24 Stratified Cross-validation scores: [0.875      0.875      0.86956522]\n",
      "0      0\n",
      "1      0\n",
      "2      0\n",
      "3      0\n",
      "4      1\n",
      "      ..\n",
      "110    0\n",
      "111    0\n",
      "112    0\n",
      "113    0\n",
      "114    0\n",
      "Name: bought, Length: 115, dtype: int64\n",
      "(461, 4)\n",
      "(461,)\n",
      "(115, 4)\n",
      "User 25 Stratified Cross-validation scores: [0.77272727 0.71428571 0.87179487]\n",
      "0      1\n",
      "1      0\n",
      "2      0\n",
      "3      0\n",
      "4      0\n",
      "      ..\n",
      "110    0\n",
      "111    0\n",
      "112    1\n",
      "113    0\n",
      "114    0\n",
      "Name: bought, Length: 115, dtype: int64\n",
      "(461, 4)\n",
      "(461,)\n",
      "(115, 4)\n",
      "User 26 Stratified Cross-validation scores: [0.         0.28571429 0.        ]\n",
      "0      0\n",
      "1      1\n",
      "2      1\n",
      "3      0\n",
      "4      0\n",
      "      ..\n",
      "110    0\n",
      "111    0\n",
      "112    0\n",
      "113    0\n",
      "114    0\n",
      "Name: bought, Length: 115, dtype: int64\n",
      "(465, 4)\n",
      "(465,)\n",
      "(115, 4)\n",
      "User 27 Stratified Cross-validation scores: [0.         0.15384615 0.11764706]\n",
      "0      0\n",
      "1      0\n",
      "2      0\n",
      "3      0\n",
      "4      0\n",
      "      ..\n",
      "110    0\n",
      "111    0\n",
      "112    0\n",
      "113    0\n",
      "114    0\n",
      "Name: bought, Length: 115, dtype: int64\n",
      "(503, 4)\n",
      "(503,)\n",
      "(131, 4)\n",
      "User 28 Stratified Cross-validation scores: [0.41558442 0.52873563 0.45945946]\n",
      "0      0\n",
      "1      0\n",
      "2      0\n",
      "3      0\n",
      "4      0\n",
      "      ..\n",
      "126    1\n",
      "127    0\n",
      "128    0\n",
      "129    0\n",
      "130    0\n",
      "Name: bought, Length: 131, dtype: int64\n",
      "(461, 4)\n",
      "(461,)\n",
      "(115, 4)\n",
      "User 29 Stratified Cross-validation scores: [0.1        0.16666667 0.17391304]\n",
      "0      0\n",
      "1      0\n",
      "2      0\n",
      "3      0\n",
      "4      0\n",
      "      ..\n",
      "110    0\n",
      "111    0\n",
      "112    0\n",
      "113    0\n",
      "114    0\n",
      "Name: bought, Length: 115, dtype: int64\n",
      "(479, 4)\n",
      "(479,)\n",
      "(120, 4)\n",
      "User 30 Stratified Cross-validation scores: [0. 0. 0.]\n",
      "0      0\n",
      "1      0\n",
      "2      0\n",
      "3      0\n",
      "4      0\n",
      "      ..\n",
      "115    0\n",
      "116    0\n",
      "117    0\n",
      "118    0\n",
      "119    0\n",
      "Name: bought, Length: 120, dtype: int64\n",
      "(468, 4)\n",
      "(468,)\n",
      "(116, 4)\n",
      "User 31 Stratified Cross-validation scores: [0.61538462 0.4        0.25641026]\n",
      "0      0\n",
      "1      0\n",
      "2      0\n",
      "3      0\n",
      "4      0\n",
      "      ..\n",
      "111    0\n",
      "112    0\n",
      "113    0\n",
      "114    0\n",
      "115    0\n",
      "Name: bought, Length: 116, dtype: int64\n",
      "(461, 4)\n",
      "(461,)\n",
      "(115, 4)\n",
      "User 32 Stratified Cross-validation scores: [0. 0. 0.]\n",
      "0      0\n",
      "1      0\n",
      "2      0\n",
      "3      0\n",
      "4      0\n",
      "      ..\n",
      "110    0\n",
      "111    0\n",
      "112    0\n",
      "113    0\n",
      "114    0\n",
      "Name: bought, Length: 115, dtype: int64\n"
     ]
    }
   ],
   "source": [
    "y_pred = pd.DataFrame\n",
    "submission = pd.DataFrame(columns=['user','time','bought'])\n",
    "for user_x in user_list:\n",
    "    X=df_train[df_train['user']==user_x][['day_of_week','day_of_month','month','day_of_year']]\n",
    "    y=df_train[df_train['user']==user_x]['bought']\n",
    "    x_score=df_score[df_score['user']==user_x][['day_of_week','day_of_month','month','day_of_year']]\n",
    "\n",
    "    print(X.shape)\n",
    "    print(y.shape)\n",
    "    print(x_score.shape)\n",
    "\n",
    "    scores_stratified = cross_val_score(model, X, y, cv=skf, scoring='f1') # 'f1' is often a good choice for imbalanced data\n",
    "    print(f\"User {user_x} Stratified Cross-validation scores:\", scores_stratified)\n",
    "\n",
    "    model.fit(X, y)\n",
    "    y_pred = model.predict(x_score)\n",
    "\n",
    "    sub = pd.Series(y_pred, name='bought')\n",
    "    # sub = pd.DataFrame(sub)\n",
    "    print(sub)\n",
    "    # submission = pd.concat(submission, sub, axis=0)"
   ]
  },
  {
   "cell_type": "code",
   "execution_count": 31,
   "id": "4d1bd410",
   "metadata": {},
   "outputs": [
    {
     "data": {
      "text/plain": [
       "0      0\n",
       "1      0\n",
       "2      0\n",
       "3      0\n",
       "4      0\n",
       "      ..\n",
       "110    0\n",
       "111    0\n",
       "112    0\n",
       "113    0\n",
       "114    0\n",
       "Name: bought, Length: 115, dtype: int64"
      ]
     },
     "execution_count": 31,
     "metadata": {},
     "output_type": "execute_result"
    }
   ],
   "source": [
    "sub"
   ]
  }
 ],
 "metadata": {
  "kernelspec": {
   "display_name": "Python 3",
   "language": "python",
   "name": "python3"
  },
  "language_info": {
   "codemirror_mode": {
    "name": "ipython",
    "version": 3
   },
   "file_extension": ".py",
   "mimetype": "text/x-python",
   "name": "python",
   "nbconvert_exporter": "python",
   "pygments_lexer": "ipython3",
   "version": "3.12.2"
  }
 },
 "nbformat": 4,
 "nbformat_minor": 5
}
